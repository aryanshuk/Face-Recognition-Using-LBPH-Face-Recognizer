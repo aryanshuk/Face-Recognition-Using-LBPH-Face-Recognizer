{
 "cells": [
  {
   "cell_type": "markdown",
   "id": "6046b46a",
   "metadata": {},
   "source": [
    "# Face Recognition Using LBPH Face Recognizer\n",
    "# \n",
    "## Recognise Face and Launch Kubernetes Deployment"
   ]
  },
  {
   "cell_type": "markdown",
   "id": "a488f76e",
   "metadata": {},
   "source": [
    "### STEPS :-\n",
    "1. Create Data Set\n",
    "2. Train Model\n",
    "3. Recognise Face"
   ]
  },
  {
   "cell_type": "markdown",
   "id": "12c842ef",
   "metadata": {},
   "source": [
    "## STEP 1 - Prepare Training Data"
   ]
  },
  {
   "cell_type": "code",
   "execution_count": null,
   "id": "f2646573",
   "metadata": {},
   "outputs": [],
   "source": [
    "import cv2\n",
    "import numpy as np\n",
    "\n",
    "# Load Haarcascade face detector\n",
    "face_classifier = cv2.CascadeClassifier('haarcascade_frontalface_default.xml')\n",
    "\n",
    "# Function to crop detected face\n",
    "def face_extractor(img):\n",
    "    gray = cv2.cvtColor(img,cv2.COLOR_BGR2GRAY)\n",
    "    faces = face_classifier.detectMultiScale(gray,1.3,5)\n",
    "    \n",
    "    if faces == ():\n",
    "        return None\n",
    "    \n",
    "    for (x,y,w,h) in faces:\n",
    "        cropped_face = img[y:y+h,x:x+w]\n",
    "    return cropped_face\n",
    "    \n",
    "# Initialize Webcam \n",
    "cam = cv2.VideoCapture(0)\n",
    "\n",
    "# Collect 200 samples of face from webcam\n",
    "count = 0 \n",
    "while True:\n",
    "    ret, frame = cam.read()\n",
    "    \n",
    "    if face_extractor(frame) is not None:\n",
    "        count += 1\n",
    "        face = cv2.resize(face_extracter(frame),(200,200))\n",
    "        face = cv2.cvtColor(face, cv2.COLOR_BGR2GRAY)\n",
    "        \n",
    "        # Save file in specified directory with each having unique name\n",
    "        file_name = './Aryanshu/'+str(count)+'.jpg'\n",
    "        cv2.imwrite(file_name,face)\n",
    "        \n",
    "        # Display saved images with count\n",
    "        cv2.putText(face,str(count),(50,50),cv2.FONT_HERSHEY_COMPLEX,1,[255,255,255],2)\n",
    "        cv2.imshow('Face Extractor',face)\n",
    "    \n",
    "    if cv2.waitKey(1) == 13 or count == 200:\n",
    "        break\n",
    "        \n",
    "cam.release()\n",
    "cv2.destroyAllWindows()\n",
    "print(\"Training Data Collection Complete\")"
   ]
  },
  {
   "cell_type": "markdown",
   "id": "b1adc8c4",
   "metadata": {},
   "source": [
    "## STEP 2 - Train the Model"
   ]
  },
  {
   "cell_type": "code",
   "execution_count": 1,
   "id": "3071e0e7",
   "metadata": {},
   "outputs": [
    {
     "name": "stdout",
     "output_type": "stream",
     "text": [
      "Model Trained Successfully\n"
     ]
    }
   ],
   "source": [
    "import cv2\n",
    "import numpy as np\n",
    "from os import listdir\n",
    "from os.path import isfile , join\n",
    "\n",
    "# Get the training data we previously made\n",
    "data_path = './Aryanshu/'\n",
    "onlyfiles = [f for f in listdir(data_path) if isfile(join(data_path,f))]\n",
    "\n",
    "# Create arrays for training data and labels\n",
    "Training_Data, Labels = [],[]\n",
    "\n",
    "# Open taining images in our data_path\n",
    "# And, create a numpy array for training data\n",
    "for i,files in enumerate(onlyfiles):\n",
    "    image_path = data_path + onlyfiles[i]\n",
    "    images = cv2.imread(image_path, cv2.IMREAD_GRAYSCALE)\n",
    "    Training_Data.append(np.asarray(images, dtype=np.uint8))\n",
    "    Labels.append(i)\n",
    "    \n",
    "# Create a numpy array for both training data and labels\n",
    "Labels = np.asarray(Labels,dtype= np.int32)\n",
    "\n",
    "# Initialize facial recognizer\n",
    "model_aryanshu = cv2.face_LBPHFaceRecognizer.create()\n",
    "\n",
    "# Train the model\n",
    "model_aryanshu.train(np.asarray(Training_Data),np.asarray(Labels))\n",
    "\n",
    "print(\"Model Trained Successfully\")"
   ]
  },
  {
   "cell_type": "markdown",
   "id": "4b26ea03",
   "metadata": {},
   "source": [
    "## STEP 3 - Run Facial Recognition"
   ]
  },
  {
   "cell_type": "code",
   "execution_count": 2,
   "id": "bd675705",
   "metadata": {},
   "outputs": [
    {
     "name": "stderr",
     "output_type": "stream",
     "text": [
      "<>:13: SyntaxWarning: \"is\" with a literal. Did you mean \"==\"?\n",
      "<>:13: SyntaxWarning: \"is\" with a literal. Did you mean \"==\"?\n",
      "C:\\Users\\ARYANS~1\\AppData\\Local\\Temp/ipykernel_7692/272728537.py:13: SyntaxWarning: \"is\" with a literal. Did you mean \"==\"?\n",
      "  if faces is ():\n"
     ]
    }
   ],
   "source": [
    "import cv2\n",
    "import numpy as np\n",
    "from os import system\n",
    "import os\n",
    "\n",
    "# Load face detector\n",
    "face_classifier = cv2.CascadeClassifier('haarcascade_frontalface_default.xml')\n",
    "\n",
    "def face_detector(img, size=0.5):    \n",
    "    # Convert image to grayscale\n",
    "    gray = cv2.cvtColor(img,cv2.COLOR_BGR2GRAY)\n",
    "    faces = face_classifier.detectMultiScale(gray, 1.3, 5)\n",
    "    if faces is ():\n",
    "        return img, []\n",
    "    \n",
    "    for (x,y,w,h) in faces:\n",
    "        cv2.rectangle(img,(x,y),(x+w,y+h),(0,255,255),2)\n",
    "        roi = img[y:y+h, x:x+w]\n",
    "        roi = cv2.resize(roi, (200, 200))\n",
    "    return img, roi\n",
    "\n",
    "# Open Webcam\n",
    "cap = cv2.VideoCapture(0)\n",
    "\n",
    "# Deployment Launched or Not\n",
    "launched = False\n",
    "\n",
    "while True:\n",
    "    ret, frame = cap.read()\n",
    "    image, face = face_detector(frame)\n",
    "    \n",
    "    try:\n",
    "        face = cv2.cvtColor(face, cv2.COLOR_BGR2GRAY)\n",
    "\n",
    "        # Pass face to prediction model\n",
    "        # \"results\" comprises of a tuple containing the label and the confidence value\n",
    "        results = model_aryanshu.predict(face)\n",
    "        \n",
    "        if results[1] < 500:\n",
    "            confidence = int( 100 * (1 - (results[1])/400) )\n",
    "            display_string = str(confidence) + '% Confidence Score'\n",
    "        \n",
    "        # Display Confidence Score\n",
    "        cv2.putText(image, display_string, (10, 30), cv2.FONT_HERSHEY_COMPLEX, 1, (0,0,0), 1)\n",
    "        \n",
    "        if confidence > 80:\n",
    "            cv2.putText(image, \"Hello Aryanshu\", (350, 450), cv2.FONT_HERSHEY_COMPLEX, 1, (0,255,0), 1)\n",
    "            # Create a K8s deployment when the face is recognised\n",
    "            system(\" kubectl cluster-info > k8s_status.txt\")\n",
    "            \n",
    "            file = open(\"k8s_status.txt\", \"r\")\n",
    "            k8s_status = str(file.read())\n",
    "            file.close()\n",
    "            \n",
    "            if 'running' in k8s_status:\n",
    "                if launched == False:\n",
    "                    cv2.putText(image, \"Launching Deployment\", (1, 400), cv2.FONT_HERSHEY_COMPLEX, 1, (0,255,0),1)\n",
    "                    system(\"kubectl create deployment recognised --image=httpd\")\n",
    "                    launched = True\n",
    "                else:\n",
    "                    cv2.putText(image, \"Launched Deployment\", (1, 400), cv2.FONT_HERSHEY_COMPLEX, 1, (0,255,0),1)\n",
    "                    launched = True\n",
    "            cv2.imshow('Face Recognition', image )\n",
    "        else:\n",
    "            cv2.putText(image, \"Unknown User\", (350, 450), cv2.FONT_HERSHEY_COMPLEX, 1, (0,0,255), 2)\n",
    "            cv2.imshow('Face Recognition', image )\n",
    "    except:\n",
    "        cv2.putText(image, \"No Face Found\", (10, 30) , cv2.FONT_HERSHEY_COMPLEX, 1, (0,0,255), 2)\n",
    "        cv2.imshow('Face Recognition', image )\n",
    "        \n",
    "    if cv2.waitKey(1) == 13: #13 is the Enter Key\n",
    "        break\n",
    "        \n",
    "cap.release()\n",
    "cv2.destroyAllWindows()\n",
    "\n",
    "if os.path.exists(\"k8s_status.txt\"):\n",
    "    os.remove(\"k8s_status.txt\")"
   ]
  },
  {
   "cell_type": "code",
   "execution_count": null,
   "id": "059e1bae",
   "metadata": {},
   "outputs": [],
   "source": []
  }
 ],
 "metadata": {
  "kernelspec": {
   "display_name": "Python 3 (ipykernel)",
   "language": "python",
   "name": "python3"
  },
  "language_info": {
   "codemirror_mode": {
    "name": "ipython",
    "version": 3
   },
   "file_extension": ".py",
   "mimetype": "text/x-python",
   "name": "python",
   "nbconvert_exporter": "python",
   "pygments_lexer": "ipython3",
   "version": "3.10.1"
  }
 },
 "nbformat": 4,
 "nbformat_minor": 5
}
